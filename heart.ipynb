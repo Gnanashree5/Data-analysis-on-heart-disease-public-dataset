{
  "cells": [
    {
      "cell_type": "markdown",
      "metadata": {
        "id": "ANYvtqENHTRs"
      },
      "source": [
        "## Import"
      ]
    },
    {
      "cell_type": "code",
      "execution_count": 15,
      "metadata": {
        "id": "D348YADBHTRv"
      },
      "outputs": [],
      "source": [
        "import pylab as pl\n",
        "import numpy as np\n",
        "import pandas as pd\n",
        "import seaborn as sns\n",
        "import scipy.optimize as opt\n",
        "import scipy.stats as stats\n",
        "import matplotlib.pyplot as plt\n",
        "from scipy.stats import randint\n",
        "%matplotlib inline\n",
        "\n",
        "# Suppress warnings for cleaner output\n",
        "import warnings\n",
        "warnings.simplefilter(\"ignore\")"
      ]
    },
    {
      "cell_type": "markdown",
      "metadata": {
        "id": "KvsXXj3_HTRx"
      },
      "source": [
        "## Load the dataset from 'heart.csv' into a Pandas DataFrame"
      ]
    },
    {
      "cell_type": "code",
      "execution_count": 16,
      "metadata": {
        "id": "n_9OHWSmHTRx"
      },
      "outputs": [
        {
          "data": {
            "text/html": [
              "<div>\n",
              "<style scoped>\n",
              "    .dataframe tbody tr th:only-of-type {\n",
              "        vertical-align: middle;\n",
              "    }\n",
              "\n",
              "    .dataframe tbody tr th {\n",
              "        vertical-align: top;\n",
              "    }\n",
              "\n",
              "    .dataframe thead th {\n",
              "        text-align: right;\n",
              "    }\n",
              "</style>\n",
              "<table border=\"1\" class=\"dataframe\">\n",
              "  <thead>\n",
              "    <tr style=\"text-align: right;\">\n",
              "      <th></th>\n",
              "      <th>age</th>\n",
              "      <th>sex</th>\n",
              "      <th>cp</th>\n",
              "      <th>trestbps</th>\n",
              "      <th>chol</th>\n",
              "      <th>fbs</th>\n",
              "      <th>restecg</th>\n",
              "      <th>thalach</th>\n",
              "      <th>exang</th>\n",
              "      <th>oldpeak</th>\n",
              "      <th>slope</th>\n",
              "      <th>ca</th>\n",
              "      <th>thal</th>\n",
              "      <th>target</th>\n",
              "    </tr>\n",
              "  </thead>\n",
              "  <tbody>\n",
              "    <tr>\n",
              "      <th>0</th>\n",
              "      <td>52</td>\n",
              "      <td>1</td>\n",
              "      <td>0</td>\n",
              "      <td>125</td>\n",
              "      <td>212</td>\n",
              "      <td>0</td>\n",
              "      <td>1</td>\n",
              "      <td>168</td>\n",
              "      <td>0</td>\n",
              "      <td>1.0</td>\n",
              "      <td>2</td>\n",
              "      <td>2</td>\n",
              "      <td>3</td>\n",
              "      <td>0</td>\n",
              "    </tr>\n",
              "    <tr>\n",
              "      <th>1</th>\n",
              "      <td>53</td>\n",
              "      <td>1</td>\n",
              "      <td>0</td>\n",
              "      <td>140</td>\n",
              "      <td>203</td>\n",
              "      <td>1</td>\n",
              "      <td>0</td>\n",
              "      <td>155</td>\n",
              "      <td>1</td>\n",
              "      <td>3.1</td>\n",
              "      <td>0</td>\n",
              "      <td>0</td>\n",
              "      <td>3</td>\n",
              "      <td>0</td>\n",
              "    </tr>\n",
              "    <tr>\n",
              "      <th>2</th>\n",
              "      <td>70</td>\n",
              "      <td>1</td>\n",
              "      <td>0</td>\n",
              "      <td>145</td>\n",
              "      <td>174</td>\n",
              "      <td>0</td>\n",
              "      <td>1</td>\n",
              "      <td>125</td>\n",
              "      <td>1</td>\n",
              "      <td>2.6</td>\n",
              "      <td>0</td>\n",
              "      <td>0</td>\n",
              "      <td>3</td>\n",
              "      <td>0</td>\n",
              "    </tr>\n",
              "    <tr>\n",
              "      <th>3</th>\n",
              "      <td>61</td>\n",
              "      <td>1</td>\n",
              "      <td>0</td>\n",
              "      <td>148</td>\n",
              "      <td>203</td>\n",
              "      <td>0</td>\n",
              "      <td>1</td>\n",
              "      <td>161</td>\n",
              "      <td>0</td>\n",
              "      <td>0.0</td>\n",
              "      <td>2</td>\n",
              "      <td>1</td>\n",
              "      <td>3</td>\n",
              "      <td>0</td>\n",
              "    </tr>\n",
              "    <tr>\n",
              "      <th>4</th>\n",
              "      <td>62</td>\n",
              "      <td>0</td>\n",
              "      <td>0</td>\n",
              "      <td>138</td>\n",
              "      <td>294</td>\n",
              "      <td>1</td>\n",
              "      <td>1</td>\n",
              "      <td>106</td>\n",
              "      <td>0</td>\n",
              "      <td>1.9</td>\n",
              "      <td>1</td>\n",
              "      <td>3</td>\n",
              "      <td>2</td>\n",
              "      <td>0</td>\n",
              "    </tr>\n",
              "  </tbody>\n",
              "</table>\n",
              "</div>"
            ],
            "text/plain": [
              "   age  sex  cp  trestbps  chol  fbs  restecg  thalach  exang  oldpeak  slope  \\\n",
              "0   52    1   0       125   212    0        1      168      0      1.0      2   \n",
              "1   53    1   0       140   203    1        0      155      1      3.1      0   \n",
              "2   70    1   0       145   174    0        1      125      1      2.6      0   \n",
              "3   61    1   0       148   203    0        1      161      0      0.0      2   \n",
              "4   62    0   0       138   294    1        1      106      0      1.9      1   \n",
              "\n",
              "   ca  thal  target  \n",
              "0   2     3       0  \n",
              "1   0     3       0  \n",
              "2   0     3       0  \n",
              "3   1     3       0  \n",
              "4   3     2       0  "
            ]
          },
          "execution_count": 16,
          "metadata": {},
          "output_type": "execute_result"
        }
      ],
      "source": [
        "import pandas as pd\n",
        "\n",
        "ha_df = pd.read_csv(r\"D:\\heart.csv\")\n",
        "ha_df.head()"
      ]
    },
    {
      "cell_type": "markdown",
      "metadata": {
        "id": "P85ldUBLHTRy"
      },
      "source": [
        "## Data Understanding"
      ]
    },
    {
      "cell_type": "code",
      "execution_count": 17,
      "metadata": {
        "id": "6RbD9Z9dHTRy"
      },
      "outputs": [
        {
          "data": {
            "text/plain": [
              "Index(['age', 'sex', 'cp', 'trestbps', 'chol', 'fbs', 'restecg', 'thalach',\n",
              "       'exang', 'oldpeak', 'slope', 'ca', 'thal', 'target'],\n",
              "      dtype='object')"
            ]
          },
          "execution_count": 17,
          "metadata": {},
          "output_type": "execute_result"
        }
      ],
      "source": [
        "# Display the column names in the dataset\n",
        "ha_df.columns"
      ]
    },
    {
      "cell_type": "markdown",
      "metadata": {
        "id": "7cwc_f0SHTRy"
      },
      "source": [
        "## Explanation of all columns in the dataset:\n",
        "\n",
        "### - 'age': age of the patient\n",
        "### - 'sex': sex of the patient\n",
        "### - 'cp': chest pain type (0=typical angina, 1=atypical angina, 2=non-anginal pain, 3=asymptomatic)\n",
        "### - 'trtbps': resting blood pressure in mm Hg\n",
        "### - 'chol': cholesterol in mg/dl\n",
        "### - 'exng': exercise-induced angina (1=yes, 0=no)\n",
        "### - 'fbs': fasting blood sugar > 120 mg/dl (1=true, 0=false)\n",
        "### - 'restecg': resting electrocardiographic results (0=normal, 1=ST-T wave abnormality, 2=left ventricular hypertrophy)\n",
        "### - 'thalachh': maximum heart rate achieved\n",
        "### - 'slp': slope\n",
        "### - 'caa': number of major vessels\n",
        "### - 'thall': thallium stress test result\n",
        "### - 'output': target (0=less chance of heart attack, 1=more chance of heart attack)"
      ]
    },
    {
      "cell_type": "markdown",
      "metadata": {
        "id": "k8u41wThHTRz"
      },
      "source": [
        "## Data Preparation"
      ]
    },
    {
      "cell_type": "code",
      "execution_count": 18,
      "metadata": {
        "id": "FFDiBeJYHTRz"
      },
      "outputs": [
        {
          "name": "stdout",
          "output_type": "stream",
          "text": [
            "<class 'pandas.core.frame.DataFrame'>\n",
            "RangeIndex: 1025 entries, 0 to 1024\n",
            "Data columns (total 14 columns):\n",
            " #   Column    Non-Null Count  Dtype  \n",
            "---  ------    --------------  -----  \n",
            " 0   age       1025 non-null   int64  \n",
            " 1   sex       1025 non-null   int64  \n",
            " 2   cp        1025 non-null   int64  \n",
            " 3   trestbps  1025 non-null   int64  \n",
            " 4   chol      1025 non-null   int64  \n",
            " 5   fbs       1025 non-null   int64  \n",
            " 6   restecg   1025 non-null   int64  \n",
            " 7   thalach   1025 non-null   int64  \n",
            " 8   exang     1025 non-null   int64  \n",
            " 9   oldpeak   1025 non-null   float64\n",
            " 10  slope     1025 non-null   int64  \n",
            " 11  ca        1025 non-null   int64  \n",
            " 12  thal      1025 non-null   int64  \n",
            " 13  target    1025 non-null   int64  \n",
            "dtypes: float64(1), int64(13)\n",
            "memory usage: 112.2 KB\n"
          ]
        }
      ],
      "source": [
        "# Check data information, data types, and missing values\n",
        "ha_df.info()"
      ]
    },
    {
      "cell_type": "markdown",
      "metadata": {},
      "source": [
        "### list of categorical columns for value checking "
      ]
    },
    {
      "cell_type": "code",
      "execution_count": 19,
      "metadata": {
        "id": "GLtsxul3HTR0"
      },
      "outputs": [],
      "source": [
        "categoric_cols = ['sex', 'cp', 'fbs', 'restecg',\n",
        "                  'exng', 'slp', 'caa', 'thall']"
      ]
    },
    {
      "cell_type": "code",
      "execution_count": 20,
      "metadata": {
        "id": "Bl-40L2qHTR0"
      },
      "outputs": [
        {
          "name": "stdout",
          "output_type": "stream",
          "text": [
            "All values in column sex : \n",
            "sex\n",
            "0    312\n",
            "1    713\n",
            "Name: count, dtype: int64\n",
            "\n",
            "\n",
            "All values in column cp : \n",
            "cp\n",
            "0    497\n",
            "1    167\n",
            "2    284\n",
            "3     77\n",
            "Name: count, dtype: int64\n",
            "\n",
            "\n",
            "All values in column fbs : \n",
            "fbs\n",
            "0    872\n",
            "1    153\n",
            "Name: count, dtype: int64\n",
            "\n",
            "\n",
            "All values in column restecg : \n",
            "restecg\n",
            "0    497\n",
            "1    513\n",
            "2     15\n",
            "Name: count, dtype: int64\n",
            "\n",
            "\n",
            "Column exng not found in the DataFrame.\n",
            "Column slp not found in the DataFrame.\n",
            "Column caa not found in the DataFrame.\n",
            "Column thall not found in the DataFrame.\n",
            "Categorical columns: ['sex', 'cp', 'fbs', 'restecg', 'exng', 'slp', 'caa', 'thall']\n"
          ]
        }
      ],
      "source": [
        "# Check all unique values in categorical columns\n",
        "\n",
        "for i in categoric_cols:\n",
        "    if i in ha_df.columns:\n",
        "        print('All values in column {0} : \\n{1}'.format(i, ha_df[i].value_counts().sort_index()))\n",
        "        print('\\n')\n",
        "    else:\n",
        "        print(f'Column {i} not found in the DataFrame.')\n",
        "\n",
        "# Print the list of categorical columns\n",
        "print('Categorical columns:', categoric_cols)"
      ]
    },
    {
      "cell_type": "markdown",
      "metadata": {
        "id": "ZdQLh6RNHTR0"
      },
      "source": [
        "## Outliers using boxplots and remove data points outside 1.5*IQR"
      ]
    },
    {
      "cell_type": "code",
      "execution_count": 23,
      "metadata": {},
      "outputs": [
        {
          "name": "stdout",
          "output_type": "stream",
          "text": [
            "['age', 'sex', 'cp', 'trestbps', 'chol', 'fbs', 'restecg', 'thalach', 'exang', 'oldpeak', 'slope', 'ca', 'thal', 'target']\n"
          ]
        }
      ],
      "source": [
        "print(ha_df.columns.tolist())"
      ]
    },
    {
      "cell_type": "code",
      "execution_count": 24,
      "metadata": {
        "id": "tRKe85afHTR0"
      },
      "outputs": [
        {
          "data": {
            "image/png": "[encoded data removed]",
            "text/plain": [
              "<Figure size 1000x500 with 5 Axes>"
            ]
          },
          "metadata": {},
          "output_type": "display_data"
        }
      ],
      "source": [
        "col_num = ['age', 'trestbps', 'chol', 'thalach', 'oldpeak']\n",
        "plt.figure(figsize=(10,5))\n",
        "for i in range(0,len(col_num)):\n",
        "    plt.subplot(1,len(col_num),i+1)\n",
        "    sns.boxplot(y=ha_df[col_num[i]])\n",
        "    plt.tight_layout()"
      ]
    },
    {
      "cell_type": "code",
      "execution_count": 25,
      "metadata": {
        "id": "0SjoNy9VHTR0"
      },
      "outputs": [],
      "source": [
        "for i in col_num:\n",
        "    Q1 = ha_df[i].quantile(0.25)\n",
        "    Q3 = ha_df[i].quantile(0.75)\n",
        "    IQR = Q3-Q1\n",
        "    LowerBound = Q1 - (1.5 * IQR)\n",
        "    UpperBound = Q3 + (1.5 * IQR)\n",
        "\n",
        "    ha_df = ha_df[(ha_df[i] >= LowerBound)&(ha_df[i] <= UpperBound)]"
      ]
    },
    {
      "cell_type": "code",
      "execution_count": 27,
      "metadata": {
        "id": "IxcwS0mgHTR0"
      },
      "outputs": [
        {
          "data": {
            "image/png": "[encoded data removed]",
            "text/plain": [
              "<Figure size 1000x500 with 5 Axes>"
            ]
          },
          "metadata": {},
          "output_type": "display_data"
        }
      ],
      "source": [
        "# Check outliers after handling\n",
        "\n",
        "col_num = ['age', 'trestbps', 'chol', 'thalach', 'oldpeak']\n",
        "plt.figure(figsize=(10,5))\n",
        "for i in range(0,len(col_num)):\n",
        "    plt.subplot(1,len(col_num),i+1)\n",
        "    sns.boxplot(y = ha_df[col_num[i]])\n",
        "    plt.tight_layout()"
      ]
    },
    {
      "cell_type": "code",
      "execution_count": 29,
      "metadata": {
        "id": "tT7mBFsPHTR0"
      },
      "outputs": [
        {
          "data": {
            "text/plain": [
              "(964, 14)"
            ]
          },
          "execution_count": 29,
          "metadata": {},
          "output_type": "execute_result"
        }
      ],
      "source": [
        "ha_df.shape"
      ]
    },
    {
      "cell_type": "code",
      "execution_count": 30,
      "metadata": {
        "id": "DC-8YARcHTR1"
      },
      "outputs": [
        {
          "data": {
            "text/plain": [
              "age         0\n",
              "sex         0\n",
              "cp          0\n",
              "trestbps    0\n",
              "chol        0\n",
              "fbs         0\n",
              "restecg     0\n",
              "thalach     0\n",
              "exang       0\n",
              "oldpeak     0\n",
              "slope       0\n",
              "ca          0\n",
              "thal        0\n",
              "target      0\n",
              "dtype: int64"
            ]
          },
          "execution_count": 30,
          "metadata": {},
          "output_type": "execute_result"
        }
      ],
      "source": [
        "# Missing values\n",
        "ha_df.isna().sum()"
      ]
    },
    {
      "cell_type": "code",
      "execution_count": 31,
      "metadata": {
        "id": "D1gezNieHTR1"
      },
      "outputs": [
        {
          "data": {
            "text/plain": [
              "np.int64(680)"
            ]
          },
          "execution_count": 31,
          "metadata": {},
          "output_type": "execute_result"
        }
      ],
      "source": [
        "# Duplicate data\n",
        "ha_df.duplicated().sum()"
      ]
    },
    {
      "cell_type": "code",
      "execution_count": 32,
      "metadata": {
        "id": "85S2IBF1HTR1"
      },
      "outputs": [],
      "source": [
        "# Remove duplicate rows\n",
        "ha_df = ha_df.drop_duplicates()"
      ]
    },
    {
      "cell_type": "code",
      "execution_count": 33,
      "metadata": {
        "id": "PM4UdKXkHTR1"
      },
      "outputs": [
        {
          "data": {
            "text/plain": [
              "np.int64(0)"
            ]
          },
          "execution_count": 33,
          "metadata": {},
          "output_type": "execute_result"
        }
      ],
      "source": [
        "# Check for duplicate data after removal\n",
        "ha_df.duplicated().sum()"
      ]
    },
    {
      "cell_type": "markdown",
      "metadata": {
        "id": "CTOETvyNHTR1"
      },
      "source": [
        "## Exploratory Data Analysis (EDA)"
      ]
    },
    {
      "cell_type": "code",
      "execution_count": 34,
      "metadata": {
        "id": "BAG8QMagHTR1"
      },
      "outputs": [
        {
          "data": {
            "text/html": [
              "<div>\n",
              "<style scoped>\n",
              "    .dataframe tbody tr th:only-of-type {\n",
              "        vertical-align: middle;\n",
              "    }\n",
              "\n",
              "    .dataframe tbody tr th {\n",
              "        vertical-align: top;\n",
              "    }\n",
              "\n",
              "    .dataframe thead th {\n",
              "        text-align: right;\n",
              "    }\n",
              "</style>\n",
              "<table border=\"1\" class=\"dataframe\">\n",
              "  <thead>\n",
              "    <tr style=\"text-align: right;\">\n",
              "      <th></th>\n",
              "      <th>count</th>\n",
              "      <th>mean</th>\n",
              "      <th>std</th>\n",
              "      <th>min</th>\n",
              "      <th>25%</th>\n",
              "      <th>50%</th>\n",
              "      <th>75%</th>\n",
              "      <th>max</th>\n",
              "    </tr>\n",
              "  </thead>\n",
              "  <tbody>\n",
              "    <tr>\n",
              "      <th>age</th>\n",
              "      <td>284.0</td>\n",
              "      <td>54.038732</td>\n",
              "      <td>9.113841</td>\n",
              "      <td>29.0</td>\n",
              "      <td>47.00</td>\n",
              "      <td>55.0</td>\n",
              "      <td>60.0</td>\n",
              "      <td>77.0</td>\n",
              "    </tr>\n",
              "    <tr>\n",
              "      <th>trestbps</th>\n",
              "      <td>284.0</td>\n",
              "      <td>129.919014</td>\n",
              "      <td>15.372310</td>\n",
              "      <td>94.0</td>\n",
              "      <td>120.00</td>\n",
              "      <td>130.0</td>\n",
              "      <td>140.0</td>\n",
              "      <td>170.0</td>\n",
              "    </tr>\n",
              "    <tr>\n",
              "      <th>chol</th>\n",
              "      <td>284.0</td>\n",
              "      <td>242.510563</td>\n",
              "      <td>44.697530</td>\n",
              "      <td>126.0</td>\n",
              "      <td>210.75</td>\n",
              "      <td>239.5</td>\n",
              "      <td>271.0</td>\n",
              "      <td>360.0</td>\n",
              "    </tr>\n",
              "    <tr>\n",
              "      <th>thalach</th>\n",
              "      <td>284.0</td>\n",
              "      <td>149.862676</td>\n",
              "      <td>22.712183</td>\n",
              "      <td>88.0</td>\n",
              "      <td>132.75</td>\n",
              "      <td>153.0</td>\n",
              "      <td>168.0</td>\n",
              "      <td>202.0</td>\n",
              "    </tr>\n",
              "    <tr>\n",
              "      <th>oldpeak</th>\n",
              "      <td>284.0</td>\n",
              "      <td>0.963380</td>\n",
              "      <td>1.042556</td>\n",
              "      <td>0.0</td>\n",
              "      <td>0.00</td>\n",
              "      <td>0.6</td>\n",
              "      <td>1.6</td>\n",
              "      <td>4.2</td>\n",
              "    </tr>\n",
              "  </tbody>\n",
              "</table>\n",
              "</div>"
            ],
            "text/plain": [
              "          count        mean        std    min     25%    50%    75%    max\n",
              "age       284.0   54.038732   9.113841   29.0   47.00   55.0   60.0   77.0\n",
              "trestbps  284.0  129.919014  15.372310   94.0  120.00  130.0  140.0  170.0\n",
              "chol      284.0  242.510563  44.697530  126.0  210.75  239.5  271.0  360.0\n",
              "thalach   284.0  149.862676  22.712183   88.0  132.75  153.0  168.0  202.0\n",
              "oldpeak   284.0    0.963380   1.042556    0.0    0.00    0.6    1.6    4.2"
            ]
          },
          "execution_count": 34,
          "metadata": {},
          "output_type": "execute_result"
        }
      ],
      "source": [
        "# Describe statistics for selected numeric columns\n",
        "ha_df[col_num].describe().transpose()"
      ]
    },
    {
      "cell_type": "code",
      "execution_count": 35,
      "metadata": {
        "id": "W9vosNOcHTR1"
      },
      "outputs": [],
      "source": [
        "df = ha_df"
      ]
    },
    {
      "cell_type": "code",
      "execution_count": 36,
      "metadata": {
        "id": "rhzN-v6jHTR1"
      },
      "outputs": [
        {
          "data": {
            "text/plain": [
              "Index(['age', 'sex', 'cp', 'trestbps', 'chol', 'fbs', 'restecg', 'thalach',\n",
              "       'exang', 'oldpeak', 'slope', 'ca', 'thal', 'target'],\n",
              "      dtype='object')"
            ]
          },
          "execution_count": 36,
          "metadata": {},
          "output_type": "execute_result"
        }
      ],
      "source": [
        "df.columns"
      ]
    },
    {
      "cell_type": "markdown",
      "metadata": {
        "id": "iVPgSj-cHTR1"
      },
      "source": [
        "## Count Plot"
      ]
    },
    {
      "cell_type": "code",
      "execution_count": 39,
      "metadata": {
        "id": "PpF4JG6lHTR1"
      },
      "outputs": [],
      "source": [
        "# Count plot for categorical columns\n",
        "count = ['sex', 'cp', 'fbs', 'restecg','exang','slope', 'ca', 'thal', 'target']"
      ]
    },
    {
      "cell_type": "code",
      "execution_count": 40,
      "metadata": {
        "id": "AZGc8qPrHTR1",
        "scrolled": false
      },
      "outputs": [
        {
          "data": {
            "image/png": "[encoded data removed]",
            "text/plain": [
              "<Figure size 640x480 with 1 Axes>"
            ]
          },
          "metadata": {},
          "output_type": "display_data"
        },
        {
          "data": {
            "image/png": "[encoded data removed]",
            "text/plain": [
              "<Figure size 640x480 with 1 Axes>"
            ]
          },
          "metadata": {},
          "output_type": "display_data"
        },
        {
          "data": {
            "image/png": "[encoded data removed]",
            "text/plain": [
              "<Figure size 640x480 with 1 Axes>"
            ]
          },
          "metadata": {},
          "output_type": "display_data"
        },
        {
          "data": {
            "image/png": "[encoded data removed]",
            "text/plain": [
              "<Figure size 640x480 with 1 Axes>"
            ]
          },
          "metadata": {},
          "output_type": "display_data"
        },
        {
          "data": {
            "image/png": "[encoded data removed]",
            "text/plain": [
              "<Figure size 640x480 with 1 Axes>"
            ]
          },
          "metadata": {},
          "output_type": "display_data"
        },
        {
          "data": {
            "image/png": "[encoded data removed]",
            "text/plain": [
              "<Figure size 640x480 with 1 Axes>"
            ]
          },
          "metadata": {},
          "output_type": "display_data"
        },
        {
          "data": {
            "image/png": "[encoded data removed]",
            "text/plain": [
              "<Figure size 640x480 with 1 Axes>"
            ]
          },
          "metadata": {},
          "output_type": "display_data"
        },
        {
          "data": {
            "image/png": "[encoded data removed]",
            "text/plain": [
              "<Figure size 640x480 with 1 Axes>"
            ]
          },
          "metadata": {},
          "output_type": "display_data"
        },
        {
          "data": {
            "image/png": "[encoded data removed]",
            "text/plain": [
              "<Figure size 640x480 with 1 Axes>"
            ]
          },
          "metadata": {},
          "output_type": "display_data"
        }
      ],
      "source": [
        "for i in count:\n",
        "    sns.countplot(df[i], palette = 'viridis')\n",
        "    plt.show()"
      ]
    },
    {
      "cell_type": "markdown",
      "metadata": {
        "id": "rw8TqY5EHTR2"
      },
      "source": [
        "## Histograms for selected numeric columns"
      ]
    },
    {
      "cell_type": "code",
      "execution_count": 42,
      "metadata": {
        "id": "Q5qIT6-eHTR2"
      },
      "outputs": [
        {
          "data": {
            "image/png": "[encoded data removed]",
            "text/plain": [
              "<Figure size 640x480 with 1 Axes>"
            ]
          },
          "metadata": {},
          "output_type": "display_data"
        },
        {
          "data": {
            "image/png": "[encoded data removed]",
            "text/plain": [
              "<Figure size 640x480 with 1 Axes>"
            ]
          },
          "metadata": {},
          "output_type": "display_data"
        },
        {
          "data": {
            "image/png": "[encoded data removed]",
            "text/plain": [
              "<Figure size 640x480 with 1 Axes>"
            ]
          },
          "metadata": {},
          "output_type": "display_data"
        },
        {
          "data": {
            "image/png": "[encoded data removed]",
            "text/plain": [
              "<Figure size 640x480 with 1 Axes>"
            ]
          },
          "metadata": {},
          "output_type": "display_data"
        },
        {
          "data": {
            "image/png": "[encoded data removed]",
            "text/plain": [
              "<Figure size 640x480 with 1 Axes>"
            ]
          },
          "metadata": {},
          "output_type": "display_data"
        }
      ],
      "source": [
        "i = ['age', 'trestbps', 'chol','thalach','oldpeak']\n",
        "for j in i:\n",
        "    plt.hist(df[j],bins = 60, color = 'slateblue')\n",
        "    plt.title(j)\n",
        "    plt.show()"
      ]
    },
    {
      "cell_type": "markdown",
      "metadata": {
        "id": "CtAcUbijHTR2"
      },
      "source": [
        "## Checking for Multicollinearity and Feature Selection"
      ]
    },
    {
      "cell_type": "code",
      "execution_count": 44,
      "metadata": {
        "id": "ptVm3q-WHTR2"
      },
      "outputs": [
        {
          "name": "stdout",
          "output_type": "stream",
          "text": [
            "Collecting statsmodels\n",
            "  Downloading statsmodels-0.14.5-cp312-cp312-win_amd64.whl.metadata (9.8 kB)\n",
            "Requirement already satisfied: numpy<3,>=1.22.3 in c:\\users\\gnana\\appdata\\local\\programs\\python\\python312\\lib\\site-packages (from statsmodels) (2.1.1)\n",
            "Requirement already satisfied: scipy!=1.9.2,>=1.8 in c:\\users\\gnana\\appdata\\local\\programs\\python\\python312\\lib\\site-packages (from statsmodels) (1.14.1)\n",
            "Requirement already satisfied: pandas!=2.1.0,>=1.4 in c:\\users\\gnana\\appdata\\local\\programs\\python\\python312\\lib\\site-packages (from statsmodels) (2.2.3)\n",
            "Collecting patsy>=0.5.6 (from statsmodels)\n",
            "  Downloading patsy-1.0.1-py2.py3-none-any.whl.metadata (3.3 kB)\n",
            "Requirement already satisfied: packaging>=21.3 in c:\\users\\gnana\\appdata\\roaming\\python\\python312\\site-packages (from statsmodels) (24.1)\n",
            "Requirement already satisfied: python-dateutil>=2.8.2 in c:\\users\\gnana\\appdata\\roaming\\python\\python312\\site-packages (from pandas!=2.1.0,>=1.4->statsmodels) (2.9.0.post0)\n",
            "Requirement already satisfied: pytz>=2020.1 in c:\\users\\gnana\\appdata\\local\\programs\\python\\python312\\lib\\site-packages (from pandas!=2.1.0,>=1.4->statsmodels) (2024.2)\n",
            "Requirement already satisfied: tzdata>=2022.7 in c:\\users\\gnana\\appdata\\local\\programs\\python\\python312\\lib\\site-packages (from pandas!=2.1.0,>=1.4->statsmodels) (2024.2)\n",
            "Requirement already satisfied: six>=1.5 in c:\\users\\gnana\\appdata\\roaming\\python\\python312\\site-packages (from python-dateutil>=2.8.2->pandas!=2.1.0,>=1.4->statsmodels) (1.16.0)\n",
            "Downloading statsmodels-0.14.5-cp312-cp312-win_amd64.whl (9.6 MB)\n",
            "   ---------------------------------------- 0.0/9.6 MB ? eta -:--:--\n",
            "   ---------------------------------------- 0.0/9.6 MB ? eta -:--:--\n",
            "   - -------------------------------------- 0.3/9.6 MB ? eta -:--:--\n",
            "   - -------------------------------------- 0.3/9.6 MB ? eta -:--:--\n",
            "   - -------------------------------------- 0.3/9.6 MB ? eta -:--:--\n",
            "   - -------------------------------------- 0.3/9.6 MB ? eta -:--:--\n",
            "   -- ------------------------------------- 0.5/9.6 MB 364.6 kB/s eta 0:00:25\n",
            "   --- ------------------------------------ 0.8/9.6 MB 541.1 kB/s eta 0:00:17\n",
            "   ---- ----------------------------------- 1.0/9.6 MB 679.7 kB/s eta 0:00:13\n",
            "   ---- ----------------------------------- 1.0/9.6 MB 679.7 kB/s eta 0:00:13\n",
            "   ----- ---------------------------------- 1.3/9.6 MB 670.9 kB/s eta 0:00:13\n",
            "   ----- ---------------------------------- 1.3/9.6 MB 670.9 kB/s eta 0:00:13\n",
            "   ------ --------------------------------- 1.6/9.6 MB 676.3 kB/s eta 0:00:12\n",
            "   ------ --------------------------------- 1.6/9.6 MB 676.3 kB/s eta 0:00:12\n",
            "   ------- -------------------------------- 1.8/9.6 MB 645.1 kB/s eta 0:00:13\n",
            "   ------- -------------------------------- 1.8/9.6 MB 645.1 kB/s eta 0:00:13\n",
            "   -------- ------------------------------- 2.1/9.6 MB 656.1 kB/s eta 0:00:12\n",
            "   --------- ------------------------------ 2.4/9.6 MB 688.3 kB/s eta 0:00:11\n",
            "   --------- ------------------------------ 2.4/9.6 MB 688.3 kB/s eta 0:00:11\n",
            "   ---------- ----------------------------- 2.6/9.6 MB 683.1 kB/s eta 0:00:11\n",
            "   ---------- ----------------------------- 2.6/9.6 MB 683.1 kB/s eta 0:00:11\n",
            "   ---------- ----------------------------- 2.6/9.6 MB 683.1 kB/s eta 0:00:11\n",
            "   ------------ --------------------------- 2.9/9.6 MB 652.7 kB/s eta 0:00:11\n",
            "   ------------ --------------------------- 2.9/9.6 MB 652.7 kB/s eta 0:00:11\n",
            "   ------------- -------------------------- 3.1/9.6 MB 638.5 kB/s eta 0:00:11\n",
            "   ------------- -------------------------- 3.1/9.6 MB 638.5 kB/s eta 0:00:11\n",
            "   ------------- -------------------------- 3.1/9.6 MB 638.5 kB/s eta 0:00:11\n",
            "   -------------- ------------------------- 3.4/9.6 MB 611.9 kB/s eta 0:00:11\n",
            "   -------------- ------------------------- 3.4/9.6 MB 611.9 kB/s eta 0:00:11\n",
            "   --------------- ------------------------ 3.7/9.6 MB 619.6 kB/s eta 0:00:10\n",
            "   --------------- ------------------------ 3.7/9.6 MB 619.6 kB/s eta 0:00:10\n",
            "   --------------- ------------------------ 3.7/9.6 MB 619.6 kB/s eta 0:00:10\n",
            "   ---------------- ----------------------- 3.9/9.6 MB 603.7 kB/s eta 0:00:10\n",
            "   ---------------- ----------------------- 3.9/9.6 MB 603.7 kB/s eta 0:00:10\n",
            "   ---------------- ----------------------- 3.9/9.6 MB 603.7 kB/s eta 0:00:10\n",
            "   ----------------- ---------------------- 4.2/9.6 MB 589.4 kB/s eta 0:00:10\n",
            "   ----------------- ---------------------- 4.2/9.6 MB 589.4 kB/s eta 0:00:10\n",
            "   ------------------ --------------------- 4.5/9.6 MB 579.7 kB/s eta 0:00:09\n",
            "   ------------------ --------------------- 4.5/9.6 MB 579.7 kB/s eta 0:00:09\n",
            "   ------------------ --------------------- 4.5/9.6 MB 579.7 kB/s eta 0:00:09\n",
            "   ------------------- -------------------- 4.7/9.6 MB 575.0 kB/s eta 0:00:09\n",
            "   ------------------- -------------------- 4.7/9.6 MB 575.0 kB/s eta 0:00:09\n",
            "   -------------------- ------------------- 5.0/9.6 MB 584.1 kB/s eta 0:00:08\n",
            "   --------------------- ------------------ 5.2/9.6 MB 592.5 kB/s eta 0:00:08\n",
            "   --------------------- ------------------ 5.2/9.6 MB 592.5 kB/s eta 0:00:08\n",
            "   ---------------------- ----------------- 5.5/9.6 MB 603.5 kB/s eta 0:00:07\n",
            "   ------------------------ --------------- 5.8/9.6 MB 608.5 kB/s eta 0:00:07\n",
            "   ------------------------ --------------- 5.8/9.6 MB 608.5 kB/s eta 0:00:07\n",
            "   ------------------------- -------------- 6.0/9.6 MB 613.1 kB/s eta 0:00:06\n",
            "   ------------------------- -------------- 6.0/9.6 MB 613.1 kB/s eta 0:00:06\n",
            "   -------------------------- ------------- 6.3/9.6 MB 612.5 kB/s eta 0:00:06\n",
            "   -------------------------- ------------- 6.3/9.6 MB 612.5 kB/s eta 0:00:06\n",
            "   --------------------------- ------------ 6.6/9.6 MB 615.7 kB/s eta 0:00:05\n",
            "   --------------------------- ------------ 6.6/9.6 MB 615.7 kB/s eta 0:00:05\n",
            "   ---------------------------- ----------- 6.8/9.6 MB 622.3 kB/s eta 0:00:05\n",
            "   ----------------------------- ---------- 7.1/9.6 MB 628.5 kB/s eta 0:00:05\n",
            "   ----------------------------- ---------- 7.1/9.6 MB 628.5 kB/s eta 0:00:05\n",
            "   ------------------------------ --------- 7.3/9.6 MB 634.4 kB/s eta 0:00:04\n",
            "   ------------------------------- -------- 7.6/9.6 MB 640.8 kB/s eta 0:00:04\n",
            "   ------------------------------- -------- 7.6/9.6 MB 640.8 kB/s eta 0:00:04\n",
            "   ------------------------------- -------- 7.6/9.6 MB 640.8 kB/s eta 0:00:04\n",
            "   -------------------------------- ------- 7.9/9.6 MB 632.7 kB/s eta 0:00:03\n",
            "   --------------------------------- ------ 8.1/9.6 MB 638.7 kB/s eta 0:00:03\n",
            "   --------------------------------- ------ 8.1/9.6 MB 638.7 kB/s eta 0:00:03\n",
            "   ---------------------------------- ----- 8.4/9.6 MB 636.6 kB/s eta 0:00:02\n",
            "   ---------------------------------- ----- 8.4/9.6 MB 636.6 kB/s eta 0:00:02\n",
            "   ------------------------------------ --- 8.7/9.6 MB 640.6 kB/s eta 0:00:02\n",
            "   ------------------------------------- -- 8.9/9.6 MB 647.5 kB/s eta 0:00:02\n",
            "   ------------------------------------- -- 8.9/9.6 MB 647.5 kB/s eta 0:00:02\n",
            "   -------------------------------------- - 9.2/9.6 MB 652.6 kB/s eta 0:00:01\n",
            "   ---------------------------------------  9.4/9.6 MB 660.5 kB/s eta 0:00:01\n",
            "   ---------------------------------------  9.4/9.6 MB 660.5 kB/s eta 0:00:01\n",
            "   ---------------------------------------- 9.6/9.6 MB 657.5 kB/s eta 0:00:00\n",
            "Downloading patsy-1.0.1-py2.py3-none-any.whl (232 kB)\n",
            "Installing collected packages: patsy, statsmodels\n",
            "Successfully installed patsy-1.0.1 statsmodels-0.14.5\n"
          ]
        },
        {
          "name": "stderr",
          "output_type": "stream",
          "text": [
            "\n",
            "[notice] A new release of pip is available: 25.0.1 -> 25.2\n",
            "[notice] To update, run: python.exe -m pip install --upgrade pip\n"
          ]
        },
        {
          "data": {
            "text/html": [
              "<div>\n",
              "<style scoped>\n",
              "    .dataframe tbody tr th:only-of-type {\n",
              "        vertical-align: middle;\n",
              "    }\n",
              "\n",
              "    .dataframe tbody tr th {\n",
              "        vertical-align: top;\n",
              "    }\n",
              "\n",
              "    .dataframe thead th {\n",
              "        text-align: right;\n",
              "    }\n",
              "</style>\n",
              "<table border=\"1\" class=\"dataframe\">\n",
              "  <thead>\n",
              "    <tr style=\"text-align: right;\">\n",
              "      <th></th>\n",
              "      <th>feature</th>\n",
              "      <th>VIF</th>\n",
              "    </tr>\n",
              "  </thead>\n",
              "  <tbody>\n",
              "    <tr>\n",
              "      <th>3</th>\n",
              "      <td>trestbps</td>\n",
              "      <td>67.679163</td>\n",
              "    </tr>\n",
              "    <tr>\n",
              "      <th>7</th>\n",
              "      <td>thalach</td>\n",
              "      <td>48.940897</td>\n",
              "    </tr>\n",
              "    <tr>\n",
              "      <th>0</th>\n",
              "      <td>age</td>\n",
              "      <td>40.848486</td>\n",
              "    </tr>\n",
              "    <tr>\n",
              "      <th>4</th>\n",
              "      <td>chol</td>\n",
              "      <td>32.335727</td>\n",
              "    </tr>\n",
              "    <tr>\n",
              "      <th>12</th>\n",
              "      <td>thal</td>\n",
              "      <td>17.694901</td>\n",
              "    </tr>\n",
              "    <tr>\n",
              "      <th>10</th>\n",
              "      <td>slope</td>\n",
              "      <td>10.235945</td>\n",
              "    </tr>\n",
              "    <tr>\n",
              "      <th>13</th>\n",
              "      <td>target</td>\n",
              "      <td>4.537366</td>\n",
              "    </tr>\n",
              "    <tr>\n",
              "      <th>1</th>\n",
              "      <td>sex</td>\n",
              "      <td>4.042962</td>\n",
              "    </tr>\n",
              "    <tr>\n",
              "      <th>9</th>\n",
              "      <td>oldpeak</td>\n",
              "      <td>3.005968</td>\n",
              "    </tr>\n",
              "    <tr>\n",
              "      <th>2</th>\n",
              "      <td>cp</td>\n",
              "      <td>2.614668</td>\n",
              "    </tr>\n",
              "    <tr>\n",
              "      <th>6</th>\n",
              "      <td>restecg</td>\n",
              "      <td>2.170109</td>\n",
              "    </tr>\n",
              "    <tr>\n",
              "      <th>8</th>\n",
              "      <td>exang</td>\n",
              "      <td>2.068396</td>\n",
              "    </tr>\n",
              "    <tr>\n",
              "      <th>11</th>\n",
              "      <td>ca</td>\n",
              "      <td>2.006620</td>\n",
              "    </tr>\n",
              "    <tr>\n",
              "      <th>5</th>\n",
              "      <td>fbs</td>\n",
              "      <td>1.248208</td>\n",
              "    </tr>\n",
              "  </tbody>\n",
              "</table>\n",
              "</div>"
            ],
            "text/plain": [
              "     feature        VIF\n",
              "3   trestbps  67.679163\n",
              "7    thalach  48.940897\n",
              "0        age  40.848486\n",
              "4       chol  32.335727\n",
              "12      thal  17.694901\n",
              "10     slope  10.235945\n",
              "13    target   4.537366\n",
              "1        sex   4.042962\n",
              "9    oldpeak   3.005968\n",
              "2         cp   2.614668\n",
              "6    restecg   2.170109\n",
              "8      exang   2.068396\n",
              "11        ca   2.006620\n",
              "5        fbs   1.248208"
            ]
          },
          "execution_count": 44,
          "metadata": {},
          "output_type": "execute_result"
        }
      ],
      "source": [
        "!pip install statsmodels\n",
        "\n",
        "\n",
        "# Import variance_inflation_factor function from statsmodels\n",
        "from statsmodels.stats.outliers_influence import variance_inflation_factor\n",
        "\n",
        "# Create a DataFrame to store VIF values\n",
        "vif_data = pd.DataFrame()\n",
        "vif_data['feature'] = df.columns\n",
        "\n",
        "# Calculate VIF for each feature\n",
        "vif_data['VIF'] = [variance_inflation_factor(df.values, i) for i in range(len(df.columns))]\n",
        "pd.set_option('display.max_rows', None)\n",
        "\n",
        "# Sort and Display the output\n",
        "vif_data.sort_values(by= 'VIF', ascending = False) # vif limit = 11"
      ]
    },
    {
      "cell_type": "markdown",
      "metadata": {},
      "source": [
        "## Remove columns with VIF greater than the limit (VIF limit = 11)\n",
        "### This step is repeated for different columns\n",
        "ha_df.drop(columns=['trtbps'], inplace=True)"
      ]
    },
    {
      "cell_type": "code",
      "execution_count": 46,
      "metadata": {
        "id": "1Kgdvr1WHTR2"
      },
      "outputs": [],
      "source": [
        "# drop column 'trtbps' (vif > 11)\n",
        "df.drop(columns = ['trestbps'], inplace = True)"
      ]
    },
    {
      "cell_type": "code",
      "execution_count": 48,
      "metadata": {
        "id": "CP4nGZWYHTR2"
      },
      "outputs": [
        {
          "data": {
            "text/html": [
              "<div>\n",
              "<style scoped>\n",
              "    .dataframe tbody tr th:only-of-type {\n",
              "        vertical-align: middle;\n",
              "    }\n",
              "\n",
              "    .dataframe tbody tr th {\n",
              "        vertical-align: top;\n",
              "    }\n",
              "\n",
              "    .dataframe thead th {\n",
              "        text-align: right;\n",
              "    }\n",
              "</style>\n",
              "<table border=\"1\" class=\"dataframe\">\n",
              "  <thead>\n",
              "    <tr style=\"text-align: right;\">\n",
              "      <th></th>\n",
              "      <th>feature</th>\n",
              "      <th>VIF</th>\n",
              "    </tr>\n",
              "  </thead>\n",
              "  <tbody>\n",
              "    <tr>\n",
              "      <th>6</th>\n",
              "      <td>thalach</td>\n",
              "      <td>40.165324</td>\n",
              "    </tr>\n",
              "    <tr>\n",
              "      <th>3</th>\n",
              "      <td>chol</td>\n",
              "      <td>31.121735</td>\n",
              "    </tr>\n",
              "    <tr>\n",
              "      <th>0</th>\n",
              "      <td>age</td>\n",
              "      <td>29.168549</td>\n",
              "    </tr>\n",
              "    <tr>\n",
              "      <th>11</th>\n",
              "      <td>thal</td>\n",
              "      <td>17.629223</td>\n",
              "    </tr>\n",
              "    <tr>\n",
              "      <th>9</th>\n",
              "      <td>slope</td>\n",
              "      <td>10.228946</td>\n",
              "    </tr>\n",
              "    <tr>\n",
              "      <th>12</th>\n",
              "      <td>target</td>\n",
              "      <td>4.537283</td>\n",
              "    </tr>\n",
              "    <tr>\n",
              "      <th>1</th>\n",
              "      <td>sex</td>\n",
              "      <td>4.020783</td>\n",
              "    </tr>\n",
              "    <tr>\n",
              "      <th>8</th>\n",
              "      <td>oldpeak</td>\n",
              "      <td>2.941890</td>\n",
              "    </tr>\n",
              "    <tr>\n",
              "      <th>2</th>\n",
              "      <td>cp</td>\n",
              "      <td>2.596056</td>\n",
              "    </tr>\n",
              "    <tr>\n",
              "      <th>5</th>\n",
              "      <td>restecg</td>\n",
              "      <td>2.168715</td>\n",
              "    </tr>\n",
              "    <tr>\n",
              "      <th>7</th>\n",
              "      <td>exang</td>\n",
              "      <td>2.057338</td>\n",
              "    </tr>\n",
              "    <tr>\n",
              "      <th>10</th>\n",
              "      <td>ca</td>\n",
              "      <td>2.005912</td>\n",
              "    </tr>\n",
              "    <tr>\n",
              "      <th>4</th>\n",
              "      <td>fbs</td>\n",
              "      <td>1.242093</td>\n",
              "    </tr>\n",
              "  </tbody>\n",
              "</table>\n",
              "</div>"
            ],
            "text/plain": [
              "    feature        VIF\n",
              "6   thalach  40.165324\n",
              "3      chol  31.121735\n",
              "0       age  29.168549\n",
              "11     thal  17.629223\n",
              "9     slope  10.228946\n",
              "12   target   4.537283\n",
              "1       sex   4.020783\n",
              "8   oldpeak   2.941890\n",
              "2        cp   2.596056\n",
              "5   restecg   2.168715\n",
              "7     exang   2.057338\n",
              "10       ca   2.005912\n",
              "4       fbs   1.242093"
            ]
          },
          "execution_count": 48,
          "metadata": {},
          "output_type": "execute_result"
        }
      ],
      "source": [
        "vif_data = pd.DataFrame()\n",
        "vif_data['feature'] = df.columns\n",
        "vif_data['VIF'] = [variance_inflation_factor(df.values, i) for i in range(len(df.columns))]\n",
        "pd.set_option('display.max_rows', None)\n",
        "vif_data.sort_values(by= 'VIF', ascending = False) # vif limit = 11"
      ]
    },
    {
      "cell_type": "code",
      "execution_count": 49,
      "metadata": {
        "id": "RhS12mLvHTR2"
      },
      "outputs": [],
      "source": [
        "# drop column 'thalachh' (vif > 11)\n",
        "df.drop(columns = ['thalach'], inplace = True)"
      ]
    },
    {
      "cell_type": "code",
      "execution_count": 50,
      "metadata": {
        "id": "DNH_zvwJHTR2"
      },
      "outputs": [
        {
          "data": {
            "text/html": [
              "<div>\n",
              "<style scoped>\n",
              "    .dataframe tbody tr th:only-of-type {\n",
              "        vertical-align: middle;\n",
              "    }\n",
              "\n",
              "    .dataframe tbody tr th {\n",
              "        vertical-align: top;\n",
              "    }\n",
              "\n",
              "    .dataframe thead th {\n",
              "        text-align: right;\n",
              "    }\n",
              "</style>\n",
              "<table border=\"1\" class=\"dataframe\">\n",
              "  <thead>\n",
              "    <tr style=\"text-align: right;\">\n",
              "      <th></th>\n",
              "      <th>feature</th>\n",
              "      <th>VIF</th>\n",
              "    </tr>\n",
              "  </thead>\n",
              "  <tbody>\n",
              "    <tr>\n",
              "      <th>0</th>\n",
              "      <td>age</td>\n",
              "      <td>28.358653</td>\n",
              "    </tr>\n",
              "    <tr>\n",
              "      <th>3</th>\n",
              "      <td>chol</td>\n",
              "      <td>26.281440</td>\n",
              "    </tr>\n",
              "    <tr>\n",
              "      <th>10</th>\n",
              "      <td>thal</td>\n",
              "      <td>16.430939</td>\n",
              "    </tr>\n",
              "    <tr>\n",
              "      <th>8</th>\n",
              "      <td>slope</td>\n",
              "      <td>9.104354</td>\n",
              "    </tr>\n",
              "    <tr>\n",
              "      <th>11</th>\n",
              "      <td>target</td>\n",
              "      <td>4.035806</td>\n",
              "    </tr>\n",
              "    <tr>\n",
              "      <th>1</th>\n",
              "      <td>sex</td>\n",
              "      <td>3.784810</td>\n",
              "    </tr>\n",
              "    <tr>\n",
              "      <th>7</th>\n",
              "      <td>oldpeak</td>\n",
              "      <td>2.918133</td>\n",
              "    </tr>\n",
              "    <tr>\n",
              "      <th>2</th>\n",
              "      <td>cp</td>\n",
              "      <td>2.551562</td>\n",
              "    </tr>\n",
              "    <tr>\n",
              "      <th>5</th>\n",
              "      <td>restecg</td>\n",
              "      <td>2.154113</td>\n",
              "    </tr>\n",
              "    <tr>\n",
              "      <th>6</th>\n",
              "      <td>exang</td>\n",
              "      <td>2.037188</td>\n",
              "    </tr>\n",
              "    <tr>\n",
              "      <th>9</th>\n",
              "      <td>ca</td>\n",
              "      <td>1.979188</td>\n",
              "    </tr>\n",
              "    <tr>\n",
              "      <th>4</th>\n",
              "      <td>fbs</td>\n",
              "      <td>1.240231</td>\n",
              "    </tr>\n",
              "  </tbody>\n",
              "</table>\n",
              "</div>"
            ],
            "text/plain": [
              "    feature        VIF\n",
              "0       age  28.358653\n",
              "3      chol  26.281440\n",
              "10     thal  16.430939\n",
              "8     slope   9.104354\n",
              "11   target   4.035806\n",
              "1       sex   3.784810\n",
              "7   oldpeak   2.918133\n",
              "2        cp   2.551562\n",
              "5   restecg   2.154113\n",
              "6     exang   2.037188\n",
              "9        ca   1.979188\n",
              "4       fbs   1.240231"
            ]
          },
          "execution_count": 50,
          "metadata": {},
          "output_type": "execute_result"
        }
      ],
      "source": [
        "vif_data = pd.DataFrame()\n",
        "vif_data['feature'] = df.columns\n",
        "vif_data['VIF'] = [variance_inflation_factor(df.values, i) for i in range(len(df.columns))]\n",
        "pd.set_option('display.max_rows', None)\n",
        "vif_data.sort_values(by= 'VIF', ascending = False) # vif limit = 11"
      ]
    },
    {
      "cell_type": "code",
      "execution_count": 51,
      "metadata": {
        "id": "IZ05dKuBHTR2"
      },
      "outputs": [],
      "source": [
        "# drop column 'age' (vif > 11)\n",
        "df.drop(columns = ['age'], inplace = True)"
      ]
    },
    {
      "cell_type": "code",
      "execution_count": 52,
      "metadata": {
        "id": "tTOgGyg5HTR2"
      },
      "outputs": [
        {
          "data": {
            "text/html": [
              "<div>\n",
              "<style scoped>\n",
              "    .dataframe tbody tr th:only-of-type {\n",
              "        vertical-align: middle;\n",
              "    }\n",
              "\n",
              "    .dataframe tbody tr th {\n",
              "        vertical-align: top;\n",
              "    }\n",
              "\n",
              "    .dataframe thead th {\n",
              "        text-align: right;\n",
              "    }\n",
              "</style>\n",
              "<table border=\"1\" class=\"dataframe\">\n",
              "  <thead>\n",
              "    <tr style=\"text-align: right;\">\n",
              "      <th></th>\n",
              "      <th>feature</th>\n",
              "      <th>VIF</th>\n",
              "    </tr>\n",
              "  </thead>\n",
              "  <tbody>\n",
              "    <tr>\n",
              "      <th>2</th>\n",
              "      <td>chol</td>\n",
              "      <td>18.028358</td>\n",
              "    </tr>\n",
              "    <tr>\n",
              "      <th>9</th>\n",
              "      <td>thal</td>\n",
              "      <td>15.427588</td>\n",
              "    </tr>\n",
              "    <tr>\n",
              "      <th>7</th>\n",
              "      <td>slope</td>\n",
              "      <td>8.925121</td>\n",
              "    </tr>\n",
              "    <tr>\n",
              "      <th>10</th>\n",
              "      <td>target</td>\n",
              "      <td>3.934283</td>\n",
              "    </tr>\n",
              "    <tr>\n",
              "      <th>0</th>\n",
              "      <td>sex</td>\n",
              "      <td>3.780956</td>\n",
              "    </tr>\n",
              "    <tr>\n",
              "      <th>6</th>\n",
              "      <td>oldpeak</td>\n",
              "      <td>2.745825</td>\n",
              "    </tr>\n",
              "    <tr>\n",
              "      <th>1</th>\n",
              "      <td>cp</td>\n",
              "      <td>2.528143</td>\n",
              "    </tr>\n",
              "    <tr>\n",
              "      <th>4</th>\n",
              "      <td>restecg</td>\n",
              "      <td>2.151138</td>\n",
              "    </tr>\n",
              "    <tr>\n",
              "      <th>5</th>\n",
              "      <td>exang</td>\n",
              "      <td>2.029645</td>\n",
              "    </tr>\n",
              "    <tr>\n",
              "      <th>8</th>\n",
              "      <td>ca</td>\n",
              "      <td>1.871821</td>\n",
              "    </tr>\n",
              "    <tr>\n",
              "      <th>3</th>\n",
              "      <td>fbs</td>\n",
              "      <td>1.228791</td>\n",
              "    </tr>\n",
              "  </tbody>\n",
              "</table>\n",
              "</div>"
            ],
            "text/plain": [
              "    feature        VIF\n",
              "2      chol  18.028358\n",
              "9      thal  15.427588\n",
              "7     slope   8.925121\n",
              "10   target   3.934283\n",
              "0       sex   3.780956\n",
              "6   oldpeak   2.745825\n",
              "1        cp   2.528143\n",
              "4   restecg   2.151138\n",
              "5     exang   2.029645\n",
              "8        ca   1.871821\n",
              "3       fbs   1.228791"
            ]
          },
          "execution_count": 52,
          "metadata": {},
          "output_type": "execute_result"
        }
      ],
      "source": [
        "vif_data = pd.DataFrame()\n",
        "vif_data['feature'] = df.columns\n",
        "vif_data['VIF'] = [variance_inflation_factor(df.values, i) for i in range(len(df.columns))]\n",
        "pd.set_option('display.max_rows', None)\n",
        "vif_data.sort_values(by= 'VIF', ascending = False) # vif limit = 11"
      ]
    },
    {
      "cell_type": "code",
      "execution_count": 53,
      "metadata": {
        "id": "Cjwot9CyHTR7"
      },
      "outputs": [],
      "source": [
        "# drop column 'chol' (vif > 11)\n",
        "df.drop(columns = ['chol'], inplace = True)"
      ]
    },
    {
      "cell_type": "code",
      "execution_count": 54,
      "metadata": {
        "id": "5-3AF1TFHTR7"
      },
      "outputs": [
        {
          "data": {
            "text/html": [
              "<div>\n",
              "<style scoped>\n",
              "    .dataframe tbody tr th:only-of-type {\n",
              "        vertical-align: middle;\n",
              "    }\n",
              "\n",
              "    .dataframe tbody tr th {\n",
              "        vertical-align: top;\n",
              "    }\n",
              "\n",
              "    .dataframe thead th {\n",
              "        text-align: right;\n",
              "    }\n",
              "</style>\n",
              "<table border=\"1\" class=\"dataframe\">\n",
              "  <thead>\n",
              "    <tr style=\"text-align: right;\">\n",
              "      <th></th>\n",
              "      <th>feature</th>\n",
              "      <th>VIF</th>\n",
              "    </tr>\n",
              "  </thead>\n",
              "  <tbody>\n",
              "    <tr>\n",
              "      <th>8</th>\n",
              "      <td>thal</td>\n",
              "      <td>10.651601</td>\n",
              "    </tr>\n",
              "    <tr>\n",
              "      <th>6</th>\n",
              "      <td>slope</td>\n",
              "      <td>7.535875</td>\n",
              "    </tr>\n",
              "    <tr>\n",
              "      <th>0</th>\n",
              "      <td>sex</td>\n",
              "      <td>3.776211</td>\n",
              "    </tr>\n",
              "    <tr>\n",
              "      <th>9</th>\n",
              "      <td>target</td>\n",
              "      <td>3.710899</td>\n",
              "    </tr>\n",
              "    <tr>\n",
              "      <th>5</th>\n",
              "      <td>oldpeak</td>\n",
              "      <td>2.587676</td>\n",
              "    </tr>\n",
              "    <tr>\n",
              "      <th>1</th>\n",
              "      <td>cp</td>\n",
              "      <td>2.508289</td>\n",
              "    </tr>\n",
              "    <tr>\n",
              "      <th>3</th>\n",
              "      <td>restecg</td>\n",
              "      <td>2.142278</td>\n",
              "    </tr>\n",
              "    <tr>\n",
              "      <th>4</th>\n",
              "      <td>exang</td>\n",
              "      <td>1.967277</td>\n",
              "    </tr>\n",
              "    <tr>\n",
              "      <th>7</th>\n",
              "      <td>ca</td>\n",
              "      <td>1.847577</td>\n",
              "    </tr>\n",
              "    <tr>\n",
              "      <th>2</th>\n",
              "      <td>fbs</td>\n",
              "      <td>1.218204</td>\n",
              "    </tr>\n",
              "  </tbody>\n",
              "</table>\n",
              "</div>"
            ],
            "text/plain": [
              "   feature        VIF\n",
              "8     thal  10.651601\n",
              "6    slope   7.535875\n",
              "0      sex   3.776211\n",
              "9   target   3.710899\n",
              "5  oldpeak   2.587676\n",
              "1       cp   2.508289\n",
              "3  restecg   2.142278\n",
              "4    exang   1.967277\n",
              "7       ca   1.847577\n",
              "2      fbs   1.218204"
            ]
          },
          "execution_count": 54,
          "metadata": {},
          "output_type": "execute_result"
        }
      ],
      "source": [
        "vif_data = pd.DataFrame()\n",
        "vif_data['feature'] = df.columns\n",
        "vif_data['VIF'] = [variance_inflation_factor(df.values, i) for i in range(len(df.columns))]\n",
        "pd.set_option('display.max_rows', None)\n",
        "vif_data.sort_values(by= 'VIF', ascending = False) # vif limit = 11"
      ]
    },
    {
      "cell_type": "code",
      "execution_count": 55,
      "metadata": {
        "id": "V4_-Hds4HTR8"
      },
      "outputs": [
        {
          "data": {
            "text/plain": [
              "Index(['sex', 'cp', 'fbs', 'restecg', 'exang', 'oldpeak', 'slope', 'ca',\n",
              "       'thal', 'target'],\n",
              "      dtype='object')"
            ]
          },
          "execution_count": 55,
          "metadata": {},
          "output_type": "execute_result"
        }
      ],
      "source": [
        "df.columns"
      ]
    },
    {
      "cell_type": "code",
      "execution_count": 57,
      "metadata": {
        "id": "d1cnXVCmHTR8"
      },
      "outputs": [
        {
          "name": "stdout",
          "output_type": "stream",
          "text": [
            "Pearson Correlation,\n"
          ]
        },
        {
          "data": {
            "image/png": "[encoded data removed]",
            "text/plain": [
              "<Figure size 1100x1100 with 2 Axes>"
            ]
          },
          "metadata": {},
          "output_type": "display_data"
        },
        {
          "name": "stdout",
          "output_type": "stream",
          "text": [
            "abs corr score: \n",
            "sex        0.320535\n",
            "cp         0.418503\n",
            "fbs        0.025539\n",
            "restecg    0.167148\n",
            "exang      0.434788\n",
            "oldpeak    0.437985\n",
            "slope      0.328277\n",
            "ca         0.402236\n",
            "thal       0.352109\n",
            "Name: target, dtype: float64\n",
            "\n",
            "\n",
            "mean 0.3207910907795114\n",
            "\n",
            "\n",
            "feature selection result: \n",
            "cp         0.418503\n",
            "exang      0.434788\n",
            "oldpeak    0.437985\n",
            "slope      0.328277\n",
            "ca         0.402236\n",
            "thal       0.352109\n",
            "Name: target, dtype: float64\n"
          ]
        }
      ],
      "source": [
        "print('Pearson Correlation,')\n",
        "plt.figure(figsize = (11,11))\n",
        "cor = df.corr().iloc[:,-1:]\n",
        "sns.heatmap(cor, annot = True, cmap = plt.cm.Blues)\n",
        "plt.show()\n",
        "\n",
        "print('abs corr score: ')\n",
        "print(abs(cor['target'][0:-1]))\n",
        "cor['tsrget'] = cor['target'][0:-1]\n",
        "margin = abs(cor['target'][0:-1]).mean()\n",
        "\n",
        "print('\\n')\n",
        "\n",
        "print('mean {0}'.format(margin))\n",
        "\n",
        "print('\\n')\n",
        "\n",
        "print('feature selection result: ')\n",
        "fs = abs(cor['target'][0:-1])[abs(cor['target']) > margin]\n",
        "print(fs)"
      ]
    },
    {
      "cell_type": "code",
      "execution_count": 58,
      "metadata": {
        "id": "-Elznn6jHTR8"
      },
      "outputs": [],
      "source": [
        "df = df.drop(columns = ['sex', 'fbs', 'restecg', 'slope'])"
      ]
    },
    {
      "cell_type": "code",
      "execution_count": 60,
      "metadata": {
        "id": "Jimi9GjgHTR8"
      },
      "outputs": [
        {
          "data": {
            "text/plain": [
              "Index(['cp', 'exang', 'oldpeak', 'ca', 'thal', 'target'], dtype='object')"
            ]
          },
          "execution_count": 60,
          "metadata": {},
          "output_type": "execute_result"
        }
      ],
      "source": [
        "df.columns"
      ]
    },
    {
      "cell_type": "code",
      "execution_count": 61,
      "metadata": {
        "id": "5vMFuh7nHTR9"
      },
      "outputs": [
        {
          "data": {
            "text/html": [
              "<div>\n",
              "<style scoped>\n",
              "    .dataframe tbody tr th:only-of-type {\n",
              "        vertical-align: middle;\n",
              "    }\n",
              "\n",
              "    .dataframe tbody tr th {\n",
              "        vertical-align: top;\n",
              "    }\n",
              "\n",
              "    .dataframe thead th {\n",
              "        text-align: right;\n",
              "    }\n",
              "</style>\n",
              "<table border=\"1\" class=\"dataframe\">\n",
              "  <thead>\n",
              "    <tr style=\"text-align: right;\">\n",
              "      <th></th>\n",
              "      <th>cp</th>\n",
              "      <th>exang</th>\n",
              "      <th>oldpeak</th>\n",
              "      <th>ca</th>\n",
              "      <th>thal</th>\n",
              "      <th>target</th>\n",
              "    </tr>\n",
              "  </thead>\n",
              "  <tbody>\n",
              "    <tr>\n",
              "      <th>0</th>\n",
              "      <td>0</td>\n",
              "      <td>0</td>\n",
              "      <td>1.0</td>\n",
              "      <td>2</td>\n",
              "      <td>3</td>\n",
              "      <td>0</td>\n",
              "    </tr>\n",
              "    <tr>\n",
              "      <th>1</th>\n",
              "      <td>0</td>\n",
              "      <td>1</td>\n",
              "      <td>3.1</td>\n",
              "      <td>0</td>\n",
              "      <td>3</td>\n",
              "      <td>0</td>\n",
              "    </tr>\n",
              "    <tr>\n",
              "      <th>2</th>\n",
              "      <td>0</td>\n",
              "      <td>1</td>\n",
              "      <td>2.6</td>\n",
              "      <td>0</td>\n",
              "      <td>3</td>\n",
              "      <td>0</td>\n",
              "    </tr>\n",
              "    <tr>\n",
              "      <th>3</th>\n",
              "      <td>0</td>\n",
              "      <td>0</td>\n",
              "      <td>0.0</td>\n",
              "      <td>1</td>\n",
              "      <td>3</td>\n",
              "      <td>0</td>\n",
              "    </tr>\n",
              "    <tr>\n",
              "      <th>4</th>\n",
              "      <td>0</td>\n",
              "      <td>0</td>\n",
              "      <td>1.9</td>\n",
              "      <td>3</td>\n",
              "      <td>2</td>\n",
              "      <td>0</td>\n",
              "    </tr>\n",
              "  </tbody>\n",
              "</table>\n",
              "</div>"
            ],
            "text/plain": [
              "   cp  exang  oldpeak  ca  thal  target\n",
              "0   0      0      1.0   2     3       0\n",
              "1   0      1      3.1   0     3       0\n",
              "2   0      1      2.6   0     3       0\n",
              "3   0      0      0.0   1     3       0\n",
              "4   0      0      1.9   3     2       0"
            ]
          },
          "execution_count": 61,
          "metadata": {},
          "output_type": "execute_result"
        }
      ],
      "source": [
        "df.head()"
      ]
    }
  ],
  "metadata": {
    "colab": {
      "provenance": []
    },
    "kernelspec": {
      "display_name": "Python 3",
      "language": "python",
      "name": "python3"
    },
    "language_info": {
      "codemirror_mode": {
        "name": "ipython",
        "version": 3
      },
      "file_extension": ".py",
      "mimetype": "text/x-python",
      "name": "python",
      "nbconvert_exporter": "python",
      "pygments_lexer": "ipython3",
      "version": "3.12.6"
    }
  },
  "nbformat": 4,
  "nbformat_minor": 0
}
